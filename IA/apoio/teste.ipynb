{
 "cells": [
  {
   "cell_type": "code",
   "execution_count": 1,
   "metadata": {},
   "outputs": [],
   "source": [
    "import os\n",
    "import json"
   ]
  },
  {
   "cell_type": "code",
   "execution_count": 8,
   "metadata": {},
   "outputs": [
    {
     "name": "stdout",
     "output_type": "stream",
     "text": [
      "1\n",
      "0\n",
      "1\n",
      "1\n"
     ]
    }
   ],
   "source": [
    "total_rajado = 0\n",
    "list_files = [x for x in os.listdir(\"amostras\")]\n",
    "for files in list_files:\n",
    "    opened_file = open(f\"amostras\\\\{files}\")\n",
    "    data = json.load(opened_file)\n",
    "    for itens in data:\n",
    "        rajado = int(itens.get(\"rajado\"))\n",
    "        macropilis = itens.get(\"macropilis\")\n",
    "        californicus = itens.get(\"californicus\")\n",
    "        total_rajado += rajado\n",
    "        n = 0\n",
    "        if (rajado >= 1):\n",
    "            n+=1\n",
    "        print(n)\n"
   ]
  }
 ],
 "metadata": {
  "kernelspec": {
   "display_name": "Python 3",
   "language": "python",
   "name": "python3"
  },
  "language_info": {
   "codemirror_mode": {
    "name": "ipython",
    "version": 3
   },
   "file_extension": ".py",
   "mimetype": "text/x-python",
   "name": "python",
   "nbconvert_exporter": "python",
   "pygments_lexer": "ipython3",
   "version": "3.10.11"
  }
 },
 "nbformat": 4,
 "nbformat_minor": 2
}
